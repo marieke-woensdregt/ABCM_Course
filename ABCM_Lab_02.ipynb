{
 "cells": [
  {
   "cell_type": "markdown",
   "id": "5257d644",
   "metadata": {},
   "source": [
    "# ABCM Computer lab 2: Communication & Theory of mind"
   ]
  },
  {
   "cell_type": "markdown",
   "id": "c7ffa873",
   "metadata": {},
   "source": [
    "In this computer lab, we will not work with code directly, but instead will use an online simulation tool that implements the agent-based model from this week's assigned reading: \n",
    "de Weerd, H., Verbrugge, R., & Verheij, B. (2015). Higher-order theory of mind in the Tacit Communication Game. Biologically Inspired Cognitive Architectures, 11, 10–21. https://doi.org/10.1016/j.bica.2014.11.010\n",
    "\n",
    "You can find the online simulation tool, together with an explanation of how it works, here:\n",
    "[http://www.harmendeweerd.nl/tacit-communication-game/](http://www.harmendeweerd.nl/tacit-communication-game/)\n",
    "\n",
    "This online simulation tool is written by the first author of de Weerd et al. (2015), in JavaScript.\n",
    "\n",
    "If you're curious, you can inspect the underlying code by opening it in the browser:\n",
    "- Google Chrome: View --> Developer --> Developer tools --> Select the \"Sources\" tab\n",
    "- Firefox: **<span class=\"mark\">To do</span>**\n",
    "- Safari: **<span class=\"mark\">To do</span>**\n"
   ]
  },
  {
   "cell_type": "markdown",
   "id": "966a77f1",
   "metadata": {},
   "source": [
    "## Read explanation on simulation tool webpage\n",
    "\n",
    "Start by reading the explanation provided on the webpage: [http://www.harmendeweerd.nl/tacit-communication-game/](http://www.harmendeweerd.nl/tacit-communication-game/)"
   ]
  },
  {
   "attachments": {},
   "cell_type": "markdown",
   "id": "a9f6eb96",
   "metadata": {},
   "source": [
    "## Some more explanation \n",
    "\n",
    "### Before any message is sent\n",
    "\n",
    "![step_1](Step_1_before_sending_message.jpeg)"
   ]
  },
  {
   "cell_type": "markdown",
   "id": "34d1d4d4",
   "metadata": {},
   "source": [
    "![step_2](Step_2_after_sending_message.jpeg)"
   ]
  },
  {
   "cell_type": "markdown",
   "id": "6fd8d207",
   "metadata": {},
   "source": [
    "![step_3](Step_3_after_receiver_move.jpeg)"
   ]
  },
  {
   "cell_type": "markdown",
   "id": "10bbcc9d",
   "metadata": {},
   "source": [
    "**Exercise 1:**\n",
    "\n",
    "Select the following settings:\n",
    "- Sender Theory of mind: Second-order\n",
    "- Sender prefers messages that: are short and visit receiver goal\n",
    "- Receiver Theory of mind: Second-order\n",
    "\n",
    "Explore 10 different randomly generated games (without actually playing them) by clicking the \"Clear beliefs\" button over and over. \n",
    "- For each game:\n",
    "    - look at each of the sender's possible messages:\n",
    "        - and check for the Zero-order and First-order sender whether there are any messages that narrow down the number of possible locations in the grid that this sender predicts the receiver would go to (i.e., such that there are less than 9 squares with an orange circle in them)\n",
    "        \n",
    "**a)** Across the 10 games you explored, did you find any example of this?\n",
    "\n",
    "**b)** Given your answer to part a), try to explain why this is the case."
   ]
  },
  {
   "cell_type": "markdown",
   "id": "5986c3d3",
   "metadata": {},
   "source": []
  },
  {
   "cell_type": "markdown",
   "id": "6f7f331f",
   "metadata": {},
   "source": [
    "**Exercise 2:**\n",
    "\n",
    "**a)** Here, we're first going to do a slight replication of Tables 1 and 2 from de Weerd et al. (2015).\n",
    "For each of the following settings, play through 10 games, and record the number of successes out of 10 games in the tables below (Table 1 for Setting 1; and Table 2 for Setting 2).\n",
    "\n",
    "**Setting 1 (Table 1)**:\n",
    "- Set \"Sender prefers messages that:\" to \"are short\":\n",
    "    - Sender: $ToM_{1}$ with Receiver: $ToM_{1}$     - 10 games\n",
    "    - Sender: $ToM_{1}$ with Receiver: $ToM_{2}$     - 10 games\n",
    "    - Sender: $ToM_{2}$ with Receiver: $ToM_{1}$     - 10 games\n",
    "    - Sender: $ToM_{2}$ with Receiver: $ToM_{2}$     - 10 games\n",
    "\n",
    "\n",
    "**Setting 2 (Table 2)**:\n",
    "- Set \"Sender prefers messages that:\" to \"are short and visit receiver goal\":\n",
    "    - Sender: $ToM_{1}$ with Receiver: $ToM_{1}$     - 10 games\n",
    "    - Sender: $ToM_{1}$ with Receiver: $ToM_{2}$     - 10 games\n",
    "    - Sender: $ToM_{2}$ with Receiver: $ToM_{1}$     - 10 games\n",
    "    - Sender: $ToM_{2}$ with Receiver: $ToM_{2}$     - 10 games\n",
    "\n",
    "\n",
    "Table 1. When Sender prefers messages that are short\n",
    "\n",
    "|        |      |**Receiver**|      |\n",
    "|--------|------|----------|------|\n",
    "|        |      | ToM1     | ToM2 |\n",
    "|**Sender**| ToM1 |          |      |\n",
    "|        | ToM2 |          |      |\n",
    "\n",
    "\n",
    "\n",
    "Table 2. When Sender prefers messages that are short **and** visit receiver goal\n",
    "\n",
    "|        |      |**Receiver**|      |\n",
    "|--------|------|----------|------|\n",
    "|        |      | ToM1     | ToM2 |\n",
    "|**Sender**| ToM1 |          |      |\n",
    "|        | ToM2 |          |      |\n",
    "\n",
    "\n",
    "\n",
    "**b)** Why does the preference for sending messages that visit the receiver's goal location not fall out of being a $ToM_{2}$ sender automatically? Shouldn't any $ToM_{2}$ sender predict that a receiver is more likely to understand their communicative intention if their message passes through the goal location?\n",
    "\n",
    "If not, why not?"
   ]
  },
  {
   "cell_type": "code",
   "execution_count": null,
   "id": "09520b2f",
   "metadata": {},
   "outputs": [],
   "source": []
  },
  {
   "cell_type": "markdown",
   "id": "74d04f97",
   "metadata": {},
   "source": [
    "**Exercise 3:**\n",
    "\n",
    "**a)** Study Table 1 (/Figure 3) and Table 2 (/Figure 4) in de Weerd et al. (2015). Is it always the case that agent pairs are more succesful when the Receiver has an accurate model of the Sender, or, in other words, when the Receiver knows the actual generative model that produces the Sender's behaviour? (e.g., when a $ToM_{2}$ sender interacts with a $ToM_{1}$ receiver, etc.)?\n",
    "\n",
    "**b)** What about the other way around? Is it always the case that agent pairs are more succesful when the Sender has an accurate model of the receiver?\n"
   ]
  },
  {
   "cell_type": "markdown",
   "id": "193f8b8e",
   "metadata": {},
   "source": []
  },
  {
   "cell_type": "markdown",
   "id": "2a51c628",
   "metadata": {},
   "source": [
    "**Exercise 4:**\n",
    "\n",
    "**a)** Further on Exercise 3: Would it be possible to define a model of different orders of $ToM$ reasoning like the one in de Weerd et al. (2015) (or the one in Waade et al., 2022), where instead of one agent reasoning about another agent being one order lower in terms of theory of mind, both agents assume that their partner/opponent has the *same* order of ToM as themselves? I.e., where the two agents are symmetrical in terms of theory of mind?\n",
    "\n",
    "It may help to represent your model in the form of a diagram. You can create a diagram in whichever way suits you, and include it here as an image, using:\n",
    "![test](test_image.jpeg)\n",
    "\n",
    "**b)** If you came up with an answer to part **a)**: In your model, do both agents have an accurate model of the other? I.e., do they know the actual generative model that produces the other agent's behaviour?"
   ]
  },
  {
   "cell_type": "markdown",
   "id": "941eed70",
   "metadata": {},
   "source": []
  },
  {
   "cell_type": "markdown",
   "id": "66aba7cd",
   "metadata": {},
   "source": [
    "**Exercise 5:**"
   ]
  },
  {
   "cell_type": "markdown",
   "id": "29382531",
   "metadata": {},
   "source": []
  }
 ],
 "metadata": {
  "kernelspec": {
   "display_name": "Python 3 (ipykernel)",
   "language": "python",
   "name": "python3"
  },
  "language_info": {
   "codemirror_mode": {
    "name": "ipython",
    "version": 3
   },
   "file_extension": ".py",
   "mimetype": "text/x-python",
   "name": "python",
   "nbconvert_exporter": "python",
   "pygments_lexer": "ipython3",
   "version": "3.7.4"
  },
  "latex_envs": {
   "LaTeX_envs_menu_present": true,
   "autoclose": false,
   "autocomplete": true,
   "bibliofile": "biblio.bib",
   "cite_by": "apalike",
   "current_citInitial": 1,
   "eqLabelWithNumbers": true,
   "eqNumInitial": 1,
   "hotkeys": {
    "equation": "Ctrl-E",
    "itemize": "Ctrl-I"
   },
   "labels_anchors": false,
   "latex_user_defs": false,
   "report_style_numbering": false,
   "user_envs_cfg": false
  },
  "toc": {
   "base_numbering": 1,
   "nav_menu": {},
   "number_sections": true,
   "sideBar": true,
   "skip_h1_title": false,
   "title_cell": "Table of Contents",
   "title_sidebar": "Contents",
   "toc_cell": false,
   "toc_position": {},
   "toc_section_display": true,
   "toc_window_display": false
  },
  "varInspector": {
   "cols": {
    "lenName": 16,
    "lenType": 16,
    "lenVar": 40
   },
   "kernels_config": {
    "python": {
     "delete_cmd_postfix": "",
     "delete_cmd_prefix": "del ",
     "library": "var_list.py",
     "varRefreshCmd": "print(var_dic_list())"
    },
    "r": {
     "delete_cmd_postfix": ") ",
     "delete_cmd_prefix": "rm(",
     "library": "var_list.r",
     "varRefreshCmd": "cat(var_dic_list()) "
    }
   },
   "types_to_exclude": [
    "module",
    "function",
    "builtin_function_or_method",
    "instance",
    "_Feature"
   ],
   "window_display": false
  }
 },
 "nbformat": 4,
 "nbformat_minor": 5
}
